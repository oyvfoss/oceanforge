{
 "cells": [
  {
   "cell_type": "markdown",
   "id": "480d72c0-9fd0-4acd-b905-311ff71c4563",
   "metadata": {},
   "source": [
    "# TOPAZ 4b Arctic reanalysis\n"
   ]
  },
  {
   "cell_type": "markdown",
   "id": "aecf381e-5645-40d5-ae9c-64db7214fdff",
   "metadata": {},
   "source": [
    "<img src=\"topaz_area.png\"\n",
    "     alt=\"Model domain, from the met.no Ocean Models page\"\n",
    "     style=\"float: left; margin-right: 30px;\" \n",
    "    width=\"200\"/>\n",
    "\n",
    "### About the product\n",
    "\n",
    "Referred to as *Arctic Ocean Physics Reanalysis* or `ARCTIC_MULTIYEAR_PHY_002_003` at Copernicus. Equivalent to the model run at MET.\n",
    "\n",
    "- Product user manual [here](https://catalogue.marine.copernicus.eu/documents/PUM/CMEMS-ARC-PUM-002-ALL.pdf).\n"
   ]
  },
  {
   "cell_type": "markdown",
   "id": "b61957bd-daf4-471a-bee4-a304b31eee02",
   "metadata": {},
   "source": [
    "**Products**\n",
    "\n",
    "Looking here at the physics reanalysis. There are also various forecast products (full 3D physics, tides and storm surges, biogeochemistry, ice..) and a reanalysis with biogeochemistry.  \n"
   ]
  },
  {
   "cell_type": "markdown",
   "id": "db99c066-0a55-4490-94b2-8cffba44c482",
   "metadata": {},
   "source": [
    "### About the data\n",
    "\n",
    "#### Reanalysis product\n",
    "\n",
    "- **Arctic and North Atlantic** (>50N in the N-Atl, does not expend past the Bering Strait )\n",
    "- **Spatial resolution**: *\"Fairly homogeneous horizontal spacing* ***(between 11 and 16 km)*** \"\n",
    "- HYCOM ocean model /  one thickness category sea ice model.. \n",
    "- **Reanalysis** assimilating ocean and sea ice observations.\n",
    "- Output on 40 fixed depth levels. (The actual model grid has 50 non-constant vertical levels)\n",
    "- **1 Jan 1991** to **31 Dec 2022**\n",
    "- Available daily, monthly and yearly.\n",
    "- Variables: pot temp, sal, SSH, mixed layer thickness, ocean velocity, ice concentration/thickness/velocity.. (Variable names area bit weird but the metadata attributes are clarifying.)\n",
    "\n",
    "#### Forcing\n",
    "\n",
    "- Initialized from 1973 WOA climatology.\n",
    "- Atmospheric forcing from ERA5.\n",
    "- Climatological estimate of Bering Strait inflow.\n",
    "- Estimates of river runoff.\n",
    "- GrIS runoff estimated from the 30 largest glaciers in a fairly crude way.\n",
    "\n",
    "##### Assimilated observations\n",
    "\n",
    "Extensive ocean and sea ice variables. See p27 [here](https://catalogue.marine.copernicus.eu/documents/PUM/CMEMS-ARC-PUM-002-ALL.pdf#27) for details."
   ]
  },
  {
   "cell_type": "markdown",
   "id": "63d65249-1942-452b-bad3-7f2388cf1b7f",
   "metadata": {},
   "source": [
    "#### Access\n",
    "\n",
    "- The files are  served at the [Copernicus Marine Data Store](https://data.marine.copernicus.eu/products). It seems the best way to access them is the `copernicusmarine` API. Requires login with (free) registration.\n",
    "-  The [Copernicus Marine Service](https://data.marine.copernicus.eu/product/ARCTIC_MULTIYEAR_PHY_002_003/services) hosts daily, monthly and yearly data:\n",
    "    - `cmems_mod_arc_phy_my_topaz4_P1D-m`\n",
    "    - `cmems_mod_arc_phy_my_topaz4_P1M`\n",
    "    - `cmems_mod_arc_phy_my_topaz4_P1Y`"
   ]
  },
  {
   "cell_type": "markdown",
   "id": "ae3a70fd-e456-4137-ac1f-22ddcb62b9e9",
   "metadata": {},
   "source": [
    "____"
   ]
  },
  {
   "cell_type": "markdown",
   "id": "f86f116c-b147-4e6c-a94d-586e4a92fd91",
   "metadata": {},
   "source": [
    "#### Load data using `copernicusmarine`\n",
    "\n",
    "Modified from the example in [this guide](https://help.marine.copernicus.eu/en/articles/8287609-copernicus-marine-toolbox-api-open-a-dataset-or-read-a-dataframe-remotely)."
   ]
  },
  {
   "cell_type": "code",
   "execution_count": 6,
   "id": "fcfd46de-3c97-4fdf-ae73-5494d6f17308",
   "metadata": {},
   "outputs": [],
   "source": [
    "from matplotlib import pyplot as plt\n",
    "import copernicusmarine\n",
    "import numpy as np\n",
    "import cmocean\n",
    "import xarray as xr"
   ]
  },
  {
   "cell_type": "markdown",
   "id": "52d08613-f7f7-40cd-bdb2-a5123faef083",
   "metadata": {},
   "source": [
    "Using the `copernicusmarine` API, we can specify a subset of the (presumably giant) dataset.\n",
    "\n",
    "My understanding is that this does lazy loading of the subset, with `copernicusmarine.open_dataset` being analogous to `xarray.open_dataset`."
   ]
  },
  {
   "cell_type": "markdown",
   "id": "f7ca3091-361c-4725-96bd-5829090b9b03",
   "metadata": {},
   "source": [
    "#### Data request for potential temperature"
   ]
  },
  {
   "cell_type": "code",
   "execution_count": 24,
   "id": "e3ef27d0-8e08-410e-a396-d42e6a10a701",
   "metadata": {},
   "outputs": [
    {
     "name": "stdout",
     "output_type": "stream",
     "text": [
      "INFO - 2024-05-02T20:37:30Z - Dataset version was not specified, the latest one was selected: \"202211\"\n",
      "INFO - 2024-05-02T20:37:30Z - Dataset part was not specified, the first one was selected: \"default\"\n",
      "INFO - 2024-05-02T20:37:32Z - Service was not specified, the default one was selected: \"arco-time-series\"\n"
     ]
    }
   ],
   "source": [
    "# Set parameters\n",
    "data_request = {\n",
    "   \"dataset_id\" : \"cmems_mod_arc_phy_my_topaz4_P1D-m\",\n",
    "   \"longitude\" : [10, 50], \n",
    "   \"latitude\" : [77, 83],\n",
    "   \"time\" : [\"2010-01-01\", \"2022-01-01\"],\n",
    " #  \"variables\" : [\"sea_surface_temperature\"]\n",
    "}\n",
    "\n",
    "# Load xarray dataset\n",
    "ds = copernicusmarine.open_dataset(\n",
    "    dataset_id = data_request[\"dataset_id\"],\n",
    "    minimum_longitude = data_request[\"longitude\"][0],\n",
    "    maximum_longitude = data_request[\"longitude\"][1],\n",
    "    minimum_latitude = data_request[\"latitude\"][0],\n",
    "    maximum_latitude = data_request[\"latitude\"][1],\n",
    "    start_datetime = data_request[\"time\"][0],\n",
    "    end_datetime = data_request[\"time\"][1],\n",
    "    #variables = data_request[\"variables\"]\n",
    ")"
   ]
  },
  {
   "cell_type": "markdown",
   "id": "b72ba58b-2de9-4f0b-9cf3-b9fbc017ab05",
   "metadata": {},
   "source": [
    "____"
   ]
  },
  {
   "cell_type": "markdown",
   "id": "8b403dc3-e911-4144-b0fb-3d18e7012399",
   "metadata": {},
   "source": [
    "### *Example:* Plot ocean temperature at 100 m depth"
   ]
  },
  {
   "cell_type": "markdown",
   "id": "0a397e66-02e8-4748-b83b-2bd615a589a9",
   "metadata": {},
   "source": [
    "##### Choose a depth level and a time stamp we want to examine "
   ]
  },
  {
   "cell_type": "code",
   "execution_count": 25,
   "id": "448ab9c6-8c27-4c6b-9d9a-95a02a5d1b8f",
   "metadata": {},
   "outputs": [],
   "source": [
    "depth_closest = 100\n",
    "date = '2019-03-03'"
   ]
  },
  {
   "cell_type": "markdown",
   "id": "06fd2d20-1431-4b3a-a174-7fefc96f6a4c",
   "metadata": {},
   "source": [
    "##### Make subsets of the files with only this depth level and time stamp"
   ]
  },
  {
   "cell_type": "code",
   "execution_count": 26,
   "id": "2505f3ff-c78a-4375-bb26-6f7ec510bdba",
   "metadata": {},
   "outputs": [],
   "source": [
    "ds_select = ds.sel(depth = depth_closest, time= date, method = 'nearest')"
   ]
  },
  {
   "cell_type": "markdown",
   "id": "9228ece7-02bb-4837-ba83-b14cfbbffd94",
   "metadata": {},
   "source": [
    "**Plot ocean temperature** \n",
    "\n",
    "Can take a few minutes! "
   ]
  },
  {
   "cell_type": "code",
   "execution_count": 27,
   "id": "b84dbc42-cd5e-47a4-8228-1ca432c09a8f",
   "metadata": {},
   "outputs": [
    {
     "name": "stderr",
     "output_type": "stream",
     "text": [
      "/tmp/ipykernel_64355/81890260.py:4: UserWarning: linewidths is ignored by contourf\n",
      "  ax.contourf(ds.model_depth, levels = [-1, 1], colors = ['gray','none'], linewidths = 0.7)\n"
     ]
    },
    {
     "data": {
      "text/plain": [
       "<matplotlib.colorbar.Colorbar at 0x77b7bbd190d0>"
      ]
     },
     "execution_count": 27,
     "metadata": {},
     "output_type": "execute_result"
    },
    {
     "data": {
      "image/png": "[encoded data removed]",
      "text/plain": [
       "<Figure size 640x480 with 2 Axes>"
      ]
     },
     "metadata": {},
     "output_type": "display_data"
    }
   ],
   "source": [
    "fig, ax = plt.subplots()#; ax.set_aspect('equal')\n",
    "C = ax.pcolormesh(ds_select.thetao, cmap = cmocean.cm.thermal)\n",
    "ax.contour(ds.model_depth, levels = [0], colors = ['k',], linewidths = 0.7)\n",
    "ax.contourf(ds.model_depth, levels = [-1, 1], colors = ['gray','none'], linewidths = 0.7)\n",
    "\n",
    "plt.colorbar(C, shrink = 0.6,\n",
    "             label = f'Potential temperature at {float(ds_select.depth):.1f} m')"
   ]
  },
  {
   "cell_type": "code",
   "execution_count": null,
   "id": "2eb08330-3987-43af-a7ab-f18e586756d6",
   "metadata": {},
   "outputs": [],
   "source": []
  }
 ],
 "metadata": {
  "kernelspec": {
   "display_name": "oyv",
   "language": "python",
   "name": "oyv"
  },
  "language_info": {
   "codemirror_mode": {
    "name": "ipython",
    "version": 3
   },
   "file_extension": ".py",
   "mimetype": "text/x-python",
   "name": "python",
   "nbconvert_exporter": "python",
   "pygments_lexer": "ipython3",
   "version": "3.11.5"
  }
 },
 "nbformat": 4,
 "nbformat_minor": 5
}
