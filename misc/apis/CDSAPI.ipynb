{
 "cells": [
  {
   "cell_type": "markdown",
   "id": "77fda117-87f4-44ad-b5b9-3cabc83ed163",
   "metadata": {},
   "source": [
    "### CDSAPI (Copernicus Climate Data store API)"
   ]
  },
  {
   "cell_type": "markdown",
   "id": "37e4ac38-550e-4163-9199-17fc8ad62bce",
   "metadata": {},
   "source": [
    "Does not actually allow lazy loading, so of limited use here. \n",
    "\n"
   ]
  },
  {
   "cell_type": "markdown",
   "id": "7c789c1e-77b2-446f-a0d1-55be6b36f6ed",
   "metadata": {},
   "source": [
    "### Getting set up\n",
    "\n",
    "This [video](https://www.youtube.com/watch?v=AmF1nn7o6Hc) is useful.\n",
    "\n",
    "\n",
    "1. Register an account at CDS ([here](https://cds.climate.copernicus.eu/user/register?destination=/user/register%3Fdestination%3D%252F%2523%21%252Fhome))\n",
    "   - Confirm your e-mail address\n",
    "___\n",
    "\n",
    "2. Install the API:\n",
    "    - Conda: `conda install cdsapi`\n",
    "    - Pip: `pip install cdsapi`\n",
    "___\n",
    "\n",
    "3. SSH keys"
   ]
  },
  {
   "cell_type": "code",
   "execution_count": 2,
   "id": "474bd231-27a1-4950-85b8-a1873e3e2bed",
   "metadata": {},
   "outputs": [],
   "source": [
    "import cdsapi"
   ]
  }
 ],
 "metadata": {
  "kernelspec": {
   "display_name": "oyv",
   "language": "python",
   "name": "oyv"
  },
  "language_info": {
   "codemirror_mode": {
    "name": "ipython",
    "version": 3
   },
   "file_extension": ".py",
   "mimetype": "text/x-python",
   "name": "python",
   "nbconvert_exporter": "python",
   "pygments_lexer": "ipython3",
   "version": "3.11.5"
  }
 },
 "nbformat": 4,
 "nbformat_minor": 5
}
