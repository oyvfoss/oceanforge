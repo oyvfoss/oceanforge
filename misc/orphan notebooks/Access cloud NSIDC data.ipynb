{
 "cells": [
  {
   "cell_type": "markdown",
   "id": "e8dabfd1-4182-4d93-a39a-0a0254e37f10",
   "metadata": {},
   "source": [
    "# Access cloud NSIDC data\n",
    "\n",
    "Much (but not all) NSIDC data is available remotely using the `earthaccess` API.\n",
    "\n",
    "Notably, the Polar Pathfinder sea ice drift dataset does not seem to be available.\n",
    "\n",
    "A user+password is needed for access."
   ]
  },
  {
   "cell_type": "markdown",
   "id": "6fa3a652-5a11-46ba-bc1e-2167655cd5e3",
   "metadata": {},
   "source": [
    "https://github.com/nsidc/NSIDC-Data-Tutorials/blob/main/notebooks/ICESat-2_Cloud_Access/ATL06-direct-access.ipynb"
   ]
  },
  {
   "cell_type": "code",
   "execution_count": 1,
   "id": "7c4fdbeb-df73-4ff4-b6bf-72507df026ec",
   "metadata": {},
   "outputs": [],
   "source": [
    "import earthaccess"
   ]
  },
  {
   "cell_type": "code",
   "execution_count": 20,
   "id": "8090a360-c33e-48ea-9b41-b6e05eaf6800",
   "metadata": {},
   "outputs": [
    {
     "name": "stdout",
     "output_type": "stream",
     "text": [
      "Datasets found: 15\n"
     ]
    }
   ],
   "source": [
    "Query = earthaccess.search_datasets(keyword = 'sea ice drift')"
   ]
  },
  {
   "cell_type": "code",
   "execution_count": 21,
   "id": "de964f80-a4f5-4f84-bea7-ebfecafefa58",
   "metadata": {},
   "outputs": [
    {
     "name": "stdout",
     "output_type": "stream",
     "text": [
      "AMSR-E/Aqua Daily L3 6.25 km Sea Ice Drift Polar Grids V001\n",
      "Multi-Satellite Lambertian Equivalent Reflectivity (Local Satellite Time) 1 day L3 Global 5.0deg Lat Zones V1 (MSLERLSTL3zm) at GES DISC\n",
      "GLAS/ICESat L2 Global Antarctic and Greenland Ice Sheet Altimetry Data (HDF5) V034\n",
      "GLAS/ICESat L2 Global Antarctic and Greenland Ice Sheet Altimetry Data (HDF5) V034\n",
      "GLAS/ICESat L2 Sea Ice Altimetry Data (HDF5) V034\n",
      "GLAS/ICESat L2 Sea Ice Altimetry Data (HDF5) V034\n",
      "GLAS/ICESat L2 Global Land Surface Altimetry Data (HDF5) V034\n",
      "GLAS/ICESat L2 Global Land Surface Altimetry Data (HDF5) V034\n",
      "GLAS/ICESat L2 Ocean Altimetry Data (HDF5) V034\n",
      "GLAS/ICESat L2 Ocean Altimetry Data (HDF5) V034\n",
      "GLAS/ICESat L1B Global Waveform-based Range Corrections Data (HDF5) V034\n",
      "GLAS/ICESat L1B Global Waveform-based Range Corrections Data (HDF5) V034\n",
      "GLAS/ICESat L1B Global Elevation Data (HDF5) V034\n",
      "GLAS/ICESat L1B Global Elevation Data (HDF5) V034\n",
      "AMPR FIRE III ACE\n"
     ]
    }
   ],
   "source": [
    "for collection in Query:\n",
    "    print(collection['umm']['EntryTitle'])"
   ]
  },
  {
   "cell_type": "code",
   "execution_count": null,
   "id": "25cc476b-1cb3-46ae-9a00-11dd03e05477",
   "metadata": {},
   "outputs": [],
   "source": []
  }
 ],
 "metadata": {
  "kernelspec": {
   "display_name": "oyv",
   "language": "python",
   "name": "oyv"
  },
  "language_info": {
   "codemirror_mode": {
    "name": "ipython",
    "version": 3
   },
   "file_extension": ".py",
   "mimetype": "text/x-python",
   "name": "python",
   "nbconvert_exporter": "python",
   "pygments_lexer": "ipython3",
   "version": "3.11.5"
  }
 },
 "nbformat": 4,
 "nbformat_minor": 5
}
